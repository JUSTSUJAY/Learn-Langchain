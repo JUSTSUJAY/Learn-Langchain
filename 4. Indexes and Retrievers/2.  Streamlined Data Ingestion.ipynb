{
 "cells": [
  {
   "cell_type": "markdown",
   "id": "3d9ff427",
   "metadata": {},
   "source": [
    "- TextLoader handles plain text files\n",
    "- PyPDFLoader specializes in PDF files\n",
    "- SeleniumURLLoader is designed for loading HTML documents from URLs that require JavaScript rendering\n",
    "- Google Drive Loader provides seamless integration with Google Drive, allowing for the import of data from Google Docs or folders.\n",
    "\n",
    "# Textloader"
   ]
  },
  {
   "cell_type": "code",
   "execution_count": null,
   "id": "642e10ea",
   "metadata": {},
   "outputs": [],
   "source": [
    "from langchain.document_loaders import TextLoader\n",
    "loader = TextLoader('forTextLoader.txt')\n",
    "documents = loader.load()\n",
    "documents"
   ]
  },
  {
   "cell_type": "markdown",
   "id": "0c0406e2",
   "metadata": {},
   "source": [
    "# PyPDFLoader (PDF)\n",
    "The LangChain library provides two methods for loading and processing PDF files: PyPDFLoader and PDFMinerLoader. We mainly focus on the former, which is used to load PDF files into an array of documents, where each document contains the page content and metadata with the page number. First, install the package using Python Package Manager (PIP)."
   ]
  },
  {
   "cell_type": "code",
   "execution_count": null,
   "id": "aa3a90ca",
   "metadata": {},
   "outputs": [],
   "source": [
    "from langchain.document_loaders import PyPDFLoader\n",
    "loader = PyPDFLoader(\"20-Effective-ChatGPT-Prompts.pdf\")\n",
    "pages = loader.load_and_split()\n",
    "\n",
    "print(pages[0])"
   ]
  },
  {
   "cell_type": "markdown",
   "id": "15a5204b",
   "metadata": {},
   "source": [
    "# SeleniumURLLoader (URL)\n",
    "The SeleniumURLLoader module offers a robust yet user-friendly approach for loading HTML documents from a list of URLs requiring JavaScript rendering."
   ]
  },
  {
   "cell_type": "code",
   "execution_count": null,
   "id": "bb784aaa",
   "metadata": {},
   "outputs": [],
   "source": [
    "!pip install unstructured "
   ]
  },
  {
   "cell_type": "code",
   "execution_count": null,
   "id": "0532083a",
   "metadata": {},
   "outputs": [],
   "source": [
    "from langchain.document_loaders import SeleniumURLLoader\n",
    "\n",
    "urls = [\n",
    "    \"https://www.youtube.com/watch?v=TFa539R09EQ&t=139s\",\n",
    "    \"https://www.youtube.com/watch?v=6Zv6A_9urh4&t=112s\"\n",
    "]\n",
    "\n",
    "loader = SeleniumURLLoader(urls=urls)\n",
    "data = loader.load()\n",
    "\n",
    "print(data[0])"
   ]
  },
  {
   "cell_type": "markdown",
   "id": "5537e0da",
   "metadata": {},
   "source": [
    "The SeleniumURLLoader class includes the following attributes:\n",
    "\n",
    "- URLs (List[str]): List of URLs to load.\n",
    "- continue_on_failure (bool, default=True): Continues loading other URLs on failure if True.\n",
    "- browser (str, default=\"chrome\"): Browser selection, either 'Chrome' or 'Firefox'.\n",
    "- executable_path (Optional[str], default=None): Browser executable path.\n",
    "- headless (bool, default=True): Browser runs in headless mode if True."
   ]
  },
  {
   "cell_type": "code",
   "execution_count": null,
   "id": "90757ed0",
   "metadata": {},
   "outputs": [],
   "source": [
    "loader = SeleniumURLLoader(urls=urls, browser=\"firefox\")"
   ]
  },
  {
   "cell_type": "markdown",
   "id": "0885bfc8",
   "metadata": {},
   "source": [
    "Upon invoking the load() method, a list of Document instances containing the loaded content is returned. Each Document instance includes a page_content attribute with the extracted text from the HTML and a metadata attribute containing the source URL.\n",
    "\n",
    "Bear in mind that SeleniumURLLoader may be slower than other loaders since it initializes a browser instance for each URL. Nevertheless, it is advantageous for loading pages necessitating JavaScript rendering."
   ]
  },
  {
   "cell_type": "markdown",
   "id": "d9df1d9c",
   "metadata": {},
   "source": [
    "## Google Drive loader\n",
    "The LangChain Google Drive Loader efficiently imports data from Google Drive by using the GoogleDriveLoader class. It can fetch data from a list of Google Docs document IDs or a single folder ID.\n",
    "\n",
    "Prepare necessary credentials and tokens:\n",
    "\n",
    "By default, the GoogleDriveLoader searches for the credentials.json file in ~/.credentials/credentials.json. Use the credentials_file keyword argument to modify this path.\n",
    "The token.json file follows the same principle and will be created automatically upon the loader's first use.\n",
    "To set up the credentials_file, follow these steps:\n",
    "\n",
    "- Create a new Google Cloud Platform project or use an existing one by visiting the Google Cloud Console. Ensure that billing is enabled for your project.\n",
    "- Enable the Google Drive API by navigating to its dashboard in the Google Cloud Console and clicking \"Enable.\"\n",
    "- Create a service account by going to the Service Accounts page in the Google Cloud Console. Follow the prompts to set up a new service account.\n",
    "- Assign necessary roles to the service account, such as \"Google Drive API - Drive File Access\" and \"Google Drive API - Drive Metadata Read/Write Access,\" depending on your needs.\n",
    "- After creating the service account, access the \"Actions\" menu next to it, select \"Manage keys,\" click \"Add Key,\" and choose \"JSON\" as the key type. This generates a JSON key file and downloads it to your computer, which serves as your credentials_file.\n",
    "\n",
    "Folder: https://drive.google.com/drive/u/0/folders/{folder_id}\n",
    "Document: https://docs.google.com/document/d/{document_id}/edit\n",
    "Import the GoogleDriveLoader class:"
   ]
  },
  {
   "cell_type": "code",
   "execution_count": null,
   "id": "8c1928e7",
   "metadata": {},
   "outputs": [],
   "source": [
    "from langchain.document_loaders import GoogleDriveLoader"
   ]
  },
  {
   "cell_type": "code",
   "execution_count": null,
   "id": "d0d2e84a",
   "metadata": {},
   "outputs": [],
   "source": [
    "loader = GoogleDriveLoader(\n",
    "    folder_id=\"your_folder_id\",\n",
    "    recursive=False  \n",
    ")"
   ]
  },
  {
   "cell_type": "code",
   "execution_count": null,
   "id": "1a8b7be4",
   "metadata": {},
   "outputs": [],
   "source": [
    "docs = loader.load()"
   ]
  },
  {
   "cell_type": "code",
   "execution_count": null,
   "id": "5c97693d",
   "metadata": {},
   "outputs": [],
   "source": []
  }
 ],
 "metadata": {
  "kernelspec": {
   "display_name": "Python 3 (ipykernel)",
   "language": "python",
   "name": "python3"
  },
  "language_info": {
   "codemirror_mode": {
    "name": "ipython",
    "version": 3
   },
   "file_extension": ".py",
   "mimetype": "text/x-python",
   "name": "python",
   "nbconvert_exporter": "python",
   "pygments_lexer": "ipython3",
   "version": "3.9.2"
  }
 },
 "nbformat": 4,
 "nbformat_minor": 5
}
