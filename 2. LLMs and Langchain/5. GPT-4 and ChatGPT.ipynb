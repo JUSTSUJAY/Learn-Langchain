{
 "cells": [
  {
   "cell_type": "markdown",
   "id": "7c471a77",
   "metadata": {},
   "source": [
    "# Exploring Context-Aware Conversations with GPT-4 and ChatGPT\n",
    "\n",
    "In this lesson, we'll delve into the **advantages** of using **GPT-4** and **ChatGPT**, focusing on their remarkable ability to maintain **context** in conversations. We'll demonstrate how these advanced **language models** can remember the history of a conversation and respond accordingly, making them exceptionally suited for **chat applications**. Additionally, we'll briefly touch on the **improvements** brought by **GPT-4**, including an increased **context length** and enhanced **generalization**. By the end of this lesson, you'll grasp how **GPT-4** and **ChatGPT** can be harnessed for **context-aware chat applications** through the **API**, going beyond the use of the **OpenAI ChatGPT webpage**.\n",
    "\n",
    "## GPT-4: Advancements and Benefits\n",
    "\n",
    "**OpenAI's GPT-4** signifies a **significant leap forward** in the domain of **large language models**. Among its numerous **enhancements** are heightened **creativity**, the capacity to comprehend **visual input**, and an extended understanding of **context**. In the realm of **conversational AI**, both **GPT-4** and **ChatGPT** share the foundation of the **Transformers architecture** and are fine-tuned to engage in **natural dialogues** with users. While the **free version** of **ChatGPT** utilizes **GPT-3**, the **premium offering**—**ChatGPT Plus**—provides access to the more advanced **GPT-4 model**.\n",
    "\n",
    "## Benefits of ChatGPT and GPT-4 in Conversational Context\n",
    "\n",
    "The **merits** of employing **ChatGPT** and **GPT-4** in **chat format** are abundant. For instance, **GPT-4's short-term memory** has an impressive capacity of **64,000 words**, surpassing **GPT-3.5's limit** of 8,000 words. This enhancement allows **GPT-4** to effectively maintain **context** even during **lengthy conversations**. Furthermore, **GPT-4** boasts strong **multilingual capabilities**, accurately processing up to **26 languages**. Additionally, it features enhanced **steering capabilities**, enabling users to customize responses with a distinct **\"personality.\"**\n",
    "\n",
    "## Enhanced Safety and Interaction Foundation\n",
    "\n",
    "**GPT-4** offers heightened **safety measures**, boasting a **40% improvement** in generating **factual responses** and an **82% reduction** in generating **disallowed content**. Notably, **GPT-4** can interpret **images** as a basis for **interaction**. Although this functionality has yet to be integrated into **ChatGPT**, its potential to **revolutionize context-aware chat applications** is immense.\n",
    "\n",
    "With the evolving capabilities of **GPT-4** and the **user-friendly interface** of **ChatGPT**, the landscape of **context-aware chat applications** is expanding, offering innovative ways to **engage** and **interact**.\n"
   ]
  },
  {
   "cell_type": "code",
   "execution_count": null,
   "id": "f05ebcf5",
   "metadata": {},
   "outputs": [],
   "source": [
    "from langchain.chat_models import ChatOpenAI\n",
    "from langchain.schema import (\n",
    "    SystemMessage,\n",
    "    HumanMessage,\n",
    "    AIMessage\n",
    ")\n",
    "\n",
    "messages = [\n",
    "    SystemMessage(content=\"You are a helpful assistant.\"),\n",
    "    HumanMessage(content=\"What is the capital of France?\"),\n",
    "    AIMessage(content=\"The capital of France is Paris.\")\n",
    "]"
   ]
  },
  {
   "cell_type": "markdown",
   "id": "cbe55c52",
   "metadata": {},
   "source": [
    "When the user posed the question about the capital of France, the model confidently answered with \"Paris.” Next up, we test if the model can leverage these discussions as a reference to delve further into details about the city without us explicitly mentioning the name (referring to Paris). The code below adds a new message which requires the model to understand and find the “city you just mentioned” reference from previous conversations."
   ]
  },
  {
   "cell_type": "code",
   "execution_count": null,
   "id": "95116895",
   "metadata": {},
   "outputs": [],
   "source": [
    "prompt = HumanMessage(\n",
    "    content=\"I'd like to know more about the city you just mentioned.\"\n",
    ")\n",
    "# add to messages\n",
    "messages.append(prompt)\n",
    "\n",
    "llm = ChatOpenAI(model_name=\"gpt-3.5-turbo\")\n",
    "\n",
    "response = llm(messages)"
   ]
  },
  {
   "cell_type": "code",
   "execution_count": null,
   "id": "d50bae24",
   "metadata": {},
   "outputs": [],
   "source": [
    "print(response)"
   ]
  },
  {
   "cell_type": "markdown",
   "id": "38379570",
   "metadata": {},
   "source": [
    "## Recap of LangChain's Chat API Advantages\n",
    "\n",
    "To recap, the `ChatOpenAI` class is employed for creating chat-based applications capable of handling user inputs and generating responses using the **GPT-4** language model. Conversations commence with a series of messages, including **system**, **human**, and **AI** messages. The `SystemMessage` offers context, while `HumanMessage` and `AIMessage` signify user and AI messages, respectively.\n",
    "\n",
    "LangChain’s Chat API offers several **advantages**:\n",
    "\n",
    "- **Context Preservation**: The API maintains a list of messages to ensure context is preserved, enabling GPT-4 to generate relevant and coherent responses.\n",
    "- **Memory**: The message history serves as short-term memory, allowing the chatbot to refer back for more accurate and contextual responses.\n",
    "- **Modularity**: The combination of `MessageTemplate` and `ChatOpenAI` classes offers a modular approach, simplifying development and extending chatbot functionality.\n",
    "- **Improved Performance**: GPT-4 excels at complex prompts, offering better responses. It handles deeper reasoning and context awareness, enhancing the conversation experience.\n",
    "- **Flexibility**: The Chat API adapts to different domains and tasks, offering a versatile solution. It can be updated with newer models for continuous improvements.\n",
    "\n",
    "## Conclusion\n",
    "\n",
    "This lesson highlighted GPT-4's advancements, expanding context length and generalization. A more extensive context equips GPT-4 to generate longer text pieces, analyze substantial documents, and engage in more extended conversations without compromising context integrity.\n",
    "\n",
    "ChatGPT and GPT-4 models are tailored for **conversational interfaces**, retaining conversation history and providing contextually relevant responses. This quality is advantageous for multi-turn conversations and non-chat scenarios.\n",
    "\n",
    "These potent models have diverse applications, including **customer support chatbots** handling intricate inquiries, **virtual personal assistants** managing context across tasks, and as **natural language interfaces** for databases and search engines.\n",
    "\n",
    "In the next lesson, you'll embark on the course's first project—a news summarizer leveraging LangChain.\n"
   ]
  }
 ],
 "metadata": {
  "kernelspec": {
   "display_name": "Python 3 (ipykernel)",
   "language": "python",
   "name": "python3"
  },
  "language_info": {
   "codemirror_mode": {
    "name": "ipython",
    "version": 3
   },
   "file_extension": ".py",
   "mimetype": "text/x-python",
   "name": "python",
   "nbconvert_exporter": "python",
   "pygments_lexer": "ipython3",
   "version": "3.9.2"
  }
 },
 "nbformat": 4,
 "nbformat_minor": 5
}
