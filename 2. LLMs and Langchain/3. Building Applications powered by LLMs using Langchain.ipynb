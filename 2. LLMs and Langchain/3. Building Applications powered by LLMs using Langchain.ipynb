{
 "cells": [
  {
   "cell_type": "markdown",
   "id": "2f167a3b",
   "metadata": {},
   "source": [
    "# Key Features of LangChain\n",
    "\n",
    "A key feature of LangChain is its support for prompts, which includes prompt management, prompt optimization, and a unified interface for all LLMs (Large Language Models). The framework also offers common utilities for working with LLMs.\n",
    "\n",
    "## Structured Conversations with ChatPromptTemplate\n",
    "\n",
    "The `ChatPromptTemplate` is designed for creating structured conversations with AI models. This approach simplifies the management of conversation flow and content. LangChain uses message prompt templates to construct and work with prompts, enabling us to harness the full potential of underlying chat models.\n",
    "\n",
    "## Role of System and Human Prompts\n",
    "\n",
    "System and Human prompts play distinct roles and serve different purposes when interacting with chat models:\n",
    "\n",
    "- `SystemMessagePromptTemplate`: These prompts provide initial instructions, context, or data to the AI model. They set the stage for the conversation.\n",
    "- `HumanMessagePromptTemplate`: These prompts represent messages from the user that the AI model responds to. They drive the interactive nature of the conversation.\n",
    "\n",
    "LangChain's prompt templates empower users to engage effectively with AI models through well-structured conversations.\n"
   ]
  },
  {
   "cell_type": "code",
   "execution_count": 4,
   "id": "edb8eee3",
   "metadata": {},
   "outputs": [],
   "source": [
    "from langchain.llms import OpenAI\n",
    "from langchain.chat_models import ChatOpenAI\n",
    "from langchain.prompts.chat import (ChatPromptTemplate,SystemMessagePromptTemplate,HumanMessagePromptTemplate)"
   ]
  },
  {
   "cell_type": "code",
   "execution_count": 5,
   "id": "7d54aac5",
   "metadata": {},
   "outputs": [
    {
     "name": "stdout",
     "output_type": "stream",
     "text": [
      "\"Inception\" is a science fiction action film directed by Christopher Nolan. It was released in 2010 and stars Leonardo DiCaprio, Joseph Gordon-Levitt, Ellen Page, Tom Hardy, and Marion Cotillard. The film follows a professional thief who steals information by infiltrating the subconscious of his targets through their dreams. \n",
      "\n",
      "Here are some key details about the movie \"Inception\":\n",
      "\n",
      "- Release Date: July 16, 2010\n",
      "- Director: Christopher Nolan\n",
      "- Screenplay: Christopher Nolan\n",
      "- Cast: Leonardo DiCaprio, Joseph Gordon-Levitt, Ellen Page, Tom Hardy, Marion Cotillard, Ken Watanabe, Cillian Murphy, Tom Berenger, Michael Caine\n",
      "- Genre: Science Fiction, Action, Thriller\n",
      "- Running Time: 148 minutes\n",
      "- Production Companies: Warner Bros. Pictures, Legendary Pictures, Syncopy\n",
      "- Box Office: \"Inception\" grossed over $828 million worldwide, making it a commercial success.\n",
      "- Awards: The film received critical acclaim and was nominated for eight Academy Awards, winning four in the categories of Best Cinematography, Best Sound Editing, Best Sound Mixing, and Best Visual Effects.\n",
      "\n",
      "\"Inception\" is known for its complex and mind-bending narrative, stunning visual effects, and thought-provoking themes. It has gained a significant following and is often praised for its originality and innovative storytelling.\n"
     ]
    }
   ],
   "source": [
    "chat = ChatOpenAI(model_name=\"gpt-3.5-turbo\", temperature=0)\n",
    "\n",
    "\n",
    "template = \"You are an assistant that helps users find information about movies.\"\n",
    "system_message_prompt = SystemMessagePromptTemplate.from_template(template)\n",
    "human_template = \"Find information about the movie {movie_title}.\"\n",
    "human_message_prompt = HumanMessagePromptTemplate.from_template(human_template)\n",
    "\n",
    "chat_prompt = ChatPromptTemplate.from_messages([system_message_prompt, human_message_prompt])\n",
    "\n",
    "response = chat(chat_prompt.format_prompt(movie_title = 'inception').to_messages())\n",
    "\n",
    "print(response.content)"
   ]
  },
  {
   "cell_type": "code",
   "execution_count": null,
   "id": "66ea7191",
   "metadata": {},
   "outputs": [],
   "source": []
  }
 ],
 "metadata": {
  "kernelspec": {
   "display_name": "Python 3 (ipykernel)",
   "language": "python",
   "name": "python3"
  },
  "language_info": {
   "codemirror_mode": {
    "name": "ipython",
    "version": 3
   },
   "file_extension": ".py",
   "mimetype": "text/x-python",
   "name": "python",
   "nbconvert_exporter": "python",
   "pygments_lexer": "ipython3",
   "version": "3.9.2"
  }
 },
 "nbformat": 4,
 "nbformat_minor": 5
}
