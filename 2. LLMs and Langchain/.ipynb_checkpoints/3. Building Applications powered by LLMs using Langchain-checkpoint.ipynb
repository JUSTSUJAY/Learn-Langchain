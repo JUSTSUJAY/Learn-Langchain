{
 "cells": [
  {
   "cell_type": "markdown",
   "id": "2f167a3b",
   "metadata": {},
   "source": [
    "# Key Features of LangChain\n",
    "\n",
    "A key feature of LangChain is its support for prompts, which includes prompt management, prompt optimization, and a unified interface for all LLMs (Large Language Models). The framework also offers common utilities for working with LLMs.\n",
    "\n",
    "## Structured Conversations with ChatPromptTemplate\n",
    "\n",
    "The `ChatPromptTemplate` is designed for creating structured conversations with AI models. This approach simplifies the management of conversation flow and content. LangChain uses message prompt templates to construct and work with prompts, enabling us to harness the full potential of underlying chat models.\n",
    "\n",
    "## Role of System and Human Prompts\n",
    "\n",
    "System and Human prompts play distinct roles and serve different purposes when interacting with chat models:\n",
    "\n",
    "- `SystemMessagePromptTemplate`: These prompts provide initial instructions, context, or data to the AI model. They set the stage for the conversation.\n",
    "- `HumanMessagePromptTemplate`: These prompts represent messages from the user that the AI model responds to. They drive the interactive nature of the conversation.\n",
    "\n",
    "LangChain's prompt templates empower users to engage effectively with AI models through well-structured conversations.\n"
   ]
  },
  {
   "cell_type": "code",
   "execution_count": 1,
   "id": "edb8eee3",
   "metadata": {},
   "outputs": [
    {
     "name": "stderr",
     "output_type": "stream",
     "text": [
      "C:\\Users\\dell\\AppData\\Local\\Programs\\Python\\Python39\\lib\\site-packages\\deeplake\\util\\check_latest_version.py:32: UserWarning: A newer version of deeplake (3.6.19) is available. It's recommended that you update to the latest version using `pip install -U deeplake`.\n",
      "  warnings.warn(\n"
     ]
    }
   ],
   "source": [
    "from langchain.llms import OpenAI\n",
    "from langchain.chat_models import ChatOpenAI\n",
    "from langchain.prompts.chat import (ChatPromptTemplate,SystemMessagePromptTemplate,HumanMessagePromptTemplate)"
   ]
  },
  {
   "cell_type": "code",
   "execution_count": 2,
   "id": "7d54aac5",
   "metadata": {},
   "outputs": [
    {
     "name": "stdout",
     "output_type": "stream",
     "text": [
      "\"Inception\" is a science fiction action film directed by Christopher Nolan. It was released in 2010 and stars Leonardo DiCaprio, Joseph Gordon-Levitt, Ellen Page, Tom Hardy, and Marion Cotillard. The film follows a professional thief who steals information by infiltrating the subconscious of his targets through their dreams. \n",
      "\n",
      "Here are some key details about the movie \"Inception\":\n",
      "\n",
      "- Release Date: July 16, 2010\n",
      "- Director: Christopher Nolan\n",
      "- Screenplay: Christopher Nolan\n",
      "- Cast: Leonardo DiCaprio, Joseph Gordon-Levitt, Ellen Page, Tom Hardy, Marion Cotillard, Ken Watanabe, Cillian Murphy, Tom Berenger, Michael Caine\n",
      "- Genre: Science Fiction, Action, Thriller\n",
      "- Running Time: 148 minutes\n",
      "- Production Companies: Warner Bros. Pictures, Legendary Pictures, Syncopy\n",
      "- Box Office: \"Inception\" grossed over $828 million worldwide, making it a commercial success.\n",
      "- Awards: The film received critical acclaim and was nominated for eight Academy Awards, winning four in the categories of Best Cinematography, Best Sound Editing, Best Sound Mixing, and Best Visual Effects.\n",
      "\n",
      "\"Inception\" is known for its complex and mind-bending narrative, stunning visual effects, and thought-provoking themes. It has gained a significant following and is often praised for its originality and innovative storytelling.\n"
     ]
    }
   ],
   "source": [
    "import os\n",
    "openai_api_key = os.environ.get('OPENAI_API_KEY')\n",
    "chat = ChatOpenAI(model_name=\"gpt-3.5-turbo\", temperature=0,openai_api_key = openai_api_key)\n",
    "\n",
    "\n",
    "template = \"You are an assistant that helps users find information about movies.\"\n",
    "system_message_prompt = SystemMessagePromptTemplate.from_template(template)\n",
    "human_template = \"Find information about the movie {movie_title}.\"\n",
    "human_message_prompt = HumanMessagePromptTemplate.from_template(human_template)\n",
    "\n",
    "chat_prompt = ChatPromptTemplate.from_messages([system_message_prompt, human_message_prompt])\n",
    "\n",
    "response = chat(chat_prompt.format_prompt(movie_title = 'inception').to_messages())\n",
    "\n",
    "print(response.content)"
   ]
  },
  {
   "cell_type": "markdown",
   "id": "e22a0e98",
   "metadata": {},
   "source": [
    "Using the `to_messages` object in LangChain allows you to convert the formatted value of a chat prompt template into a list of message objects. This is useful when working with chat models, as it provides a structured way to manage the conversation and ensures that the chat model can understand the context and roles of the messages.\n",
    "\n",
    "## Summarization Chain Example\n",
    "\n"
   ]
  },
  {
   "cell_type": "code",
   "execution_count": 3,
   "id": "76006bf4",
   "metadata": {},
   "outputs": [
    {
     "name": "stdout",
     "output_type": "stream",
     "text": [
      "Collecting pypdf\n",
      "  Obtaining dependency information for pypdf from https://files.pythonhosted.org/packages/06/f7/0a462dc4113271bfac2759e7c5ca57b1409a6c6f30013aa87fba8a725066/pypdf-3.15.1-py3-none-any.whl.metadata\n",
      "  Downloading pypdf-3.15.1-py3-none-any.whl.metadata (7.1 kB)\n",
      "Requirement already satisfied: typing_extensions>=3.10.0.0 in c:\\users\\dell\\appdata\\local\\programs\\python\\python39\\lib\\site-packages (from pypdf) (4.7.1)\n",
      "Downloading pypdf-3.15.1-py3-none-any.whl (271 kB)\n",
      "   ---------------------------------------- 271.0/271.0 kB 3.3 MB/s eta 0:00:00\n",
      "Installing collected packages: pypdf\n",
      "Successfully installed pypdf-3.15.1\n"
     ]
    },
    {
     "name": "stderr",
     "output_type": "stream",
     "text": [
      "WARNING: Ignoring invalid distribution -illow (c:\\users\\dell\\appdata\\local\\programs\\python\\python39\\lib\\site-packages)\n",
      "WARNING: Ignoring invalid distribution -pencv-python (c:\\users\\dell\\appdata\\local\\programs\\python\\python39\\lib\\site-packages)\n",
      "WARNING: Ignoring invalid distribution -illow (c:\\users\\dell\\appdata\\local\\programs\\python\\python39\\lib\\site-packages)\n",
      "WARNING: Ignoring invalid distribution -pencv-python (c:\\users\\dell\\appdata\\local\\programs\\python\\python39\\lib\\site-packages)\n"
     ]
    }
   ],
   "source": [
    "!pip install pypdf"
   ]
  },
  {
   "cell_type": "markdown",
   "id": "1c504d24",
   "metadata": {},
   "source": [
    "`OpenAI` - language model<br>\n",
    "`load_summarize_chain` - accepts a language model as INPUT and OUTPUTS a summarize chain<br>\n",
    "`PyPDFLoader` - used to load the pdf file - token length is 4016 so keep in mind to not to exceed it. Make sure you have the latest version of `pypdf` installed."
   ]
  },
  {
   "cell_type": "code",
   "execution_count": 5,
   "id": "34efc18c",
   "metadata": {},
   "outputs": [
    {
     "name": "stdout",
     "output_type": "stream",
     "text": [
      " Fund placement transactions, also known as private placements, have become increasingly popular in recent years as companies seek alternative sources of financing. These transactions involve raising capital from a select group of investors, rather than from the general public, and can offer a range of benefits to companies, including access to capital that might not be available through traditional funding sources, greater flexibility than public offerings, and the ability to tailor fundraising efforts to the needs of a specific group of investors. However, private placements come with their own set of risks, such as a lack of regulatory oversight and illiquidity.\n"
     ]
    }
   ],
   "source": [
    "# Import necessary modules\n",
    "from langchain import OpenAI, PromptTemplate\n",
    "from langchain.chains.summarize import load_summarize_chain\n",
    "from langchain.document_loaders import PyPDFLoader\n",
    "\n",
    "# Initialize language model\n",
    "llm = OpenAI(model_name=\"text-davinci-003\", temperature=0)\n",
    "\n",
    "# Load the summarization chain\n",
    "summarize_chain = load_summarize_chain(llm)\n",
    "\n",
    "# Load the document using PyPDFLoader\n",
    "document_loader = PyPDFLoader(file_path=\"E:/Marquee/Sujay_Kapadnis_March2023.pdf\")\n",
    "document = document_loader.load()\n",
    "\n",
    "# Summarize the document\n",
    "summary = summarize_chain(document)\n",
    "print(summary['output_text'])"
   ]
  },
  {
   "cell_type": "markdown",
   "id": "25e3a783",
   "metadata": {},
   "source": [
    "## QA Chain Example"
   ]
  },
  {
   "cell_type": "code",
   "execution_count": 6,
   "id": "eccd3cc1",
   "metadata": {},
   "outputs": [
    {
     "data": {
      "text/plain": [
       "' Christopher Nolan'"
      ]
     },
     "execution_count": 6,
     "metadata": {},
     "output_type": "execute_result"
    }
   ],
   "source": [
    "from langchain.prompts import PromptTemplate\n",
    "from langchain.chains import LLMChain\n",
    "from langchain.llms import OpenAI\n",
    "\n",
    "prompt = PromptTemplate(template=\"Question: {question}\\nAnswer:\", input_variables=[\"question\"])\n",
    "\n",
    "llm = OpenAI(model_name=\"text-davinci-003\", temperature=0)\n",
    "chain = LLMChain(llm=llm, prompt=prompt)\n",
    "\n",
    "chain.run('Who directed Inception?')"
   ]
  },
  {
   "cell_type": "code",
   "execution_count": null,
   "id": "4cc96408",
   "metadata": {},
   "outputs": [],
   "source": []
  }
 ],
 "metadata": {
  "kernelspec": {
   "display_name": "Python 3 (ipykernel)",
   "language": "python",
   "name": "python3"
  },
  "language_info": {
   "codemirror_mode": {
    "name": "ipython",
    "version": 3
   },
   "file_extension": ".py",
   "mimetype": "text/x-python",
   "name": "python",
   "nbconvert_exporter": "python",
   "pygments_lexer": "ipython3",
   "version": "3.9.2"
  }
 },
 "nbformat": 4,
 "nbformat_minor": 5
}
