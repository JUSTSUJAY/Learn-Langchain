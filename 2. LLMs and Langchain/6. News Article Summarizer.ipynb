{
 "cells": [
  {
   "cell_type": "code",
   "execution_count": 1,
   "id": "4039f046",
   "metadata": {},
   "outputs": [],
   "source": [
    "# !pip install -q newspaper3k python-dotenv"
   ]
  },
  {
   "cell_type": "markdown",
   "id": "e1f04d2f",
   "metadata": {},
   "source": [
    "In your Python script or notebook, set the API key as an environment variable with `OPENAI_API_KEY` name. In order to set it from a `.env` file, you can use the `load_dotenv` function."
   ]
  },
  {
   "cell_type": "code",
   "execution_count": 2,
   "id": "29a6ef61",
   "metadata": {},
   "outputs": [
    {
     "data": {
      "text/plain": [
       "True"
      ]
     },
     "execution_count": 2,
     "metadata": {},
     "output_type": "execute_result"
    }
   ],
   "source": [
    "import json \n",
    "from dotenv import load_dotenv\n",
    "load_dotenv()"
   ]
  },
  {
   "cell_type": "markdown",
   "id": "10c84b85",
   "metadata": {},
   "source": [
    "We picked the URL of a news article to generate a summary. The following code fetches articles from a list of URLs using the requests library with a custom User-Agent header. It then extracts the title and text of each article using the newspaper library."
   ]
  },
  {
   "cell_type": "code",
   "execution_count": 3,
   "id": "aee821cf",
   "metadata": {},
   "outputs": [
    {
     "name": "stdout",
     "output_type": "stream",
     "text": [
      "Title: LK-99 isn’t a superconductor — how science sleuths solved the mystery\n",
      "Text: Pure crystals of LK-99, synthesized by a team at the Max Planck Institute for Solid State Research in Stuttgart, Germany.Credit: Pascal Puphal\n",
      "\n",
      "Researchers seem to have solved the puzzle of LK-99. Scientific detective work has unearthed evidence that the material is not a superconductor, and clarified its actual properties.\n",
      "\n",
      "The conclusion dashes hopes that LK-99 — a compound of copper, lead, phosphorus and oxygen — marked the discovery of the first superconductor that works at room temperature and ambient pressure. Instead, studies have shown that impurities in the material — in particular, copper sulfide — were responsible for the sharp drops in electrical resistivity and partial levitation over a magnet, which looked similar to properties exhibited by superconductors.\n",
      "\n",
      "“I think things are pretty decisively settled at this point,” says Inna Vishik, a condensed-matter experimentalist at the University of California, Davis.\n",
      "\n",
      "Claimed superconductor LK-99 is an online sensation — but replication efforts fall short\n",
      "\n",
      "The LK-99 saga began in late July, when a team led by Sukbae Lee and Ji-Hoon Kim at the Quantum Energy Research Centre, a start-up firm in Seoul, published preprints1,2 claiming that LK-99 is a superconductor at normal pressure and temperatures up to at least 127 ºC (400 kelvin). All previously confirmed superconductors function only at extreme temperatures and pressures.\n",
      "\n",
      "The extraordinary claim quickly grabbed the attention of the science-interested public and researchers, some of whom tried to replicate LK-99. Initial attempts did not see signs of room-temperature superconductivity, but were not conclusive. Now, after dozens of replication efforts, many experts are confidently saying that the evidence shows LK-99 is not a room-temperature superconductor. (Lee and Kim’s team did not respond to Nature’s request for comment.)\n",
      "\n",
      "Accumulating evidence\n",
      "\n",
      "The South Korean team based its claim on two of LK-99’s properties: levitation above a magnet and abrupt drops in resistivity. But separate teams in Beijing, at Peking University3 and the Chinese Academy of Sciences4 (CAS), found mundane explanations for these phenomena.\n",
      "\n",
      "Another study5, by US and European researchers, combined experimental and theoretical evidence to demonstrate how LK-99’s structure made superconductivity infeasible. And other experimenters synthesized and studied pure samples6 of LK-99, erasing doubts about the material’s structure and confirming that it is not a superconductor, but an insulator.\n",
      "\n",
      "The only further confirmation would come from the Korean team sharing their samples, says Michael Fuhrer, a physicist at Monash University in Melbourne, Australia. “The burden’s on them to convince everybody else,” he says.\n",
      "\n",
      "Perhaps the most striking evidence for LK-99’s superconductivity was a video taken by the Korean team that showed a coin-shaped sample of silvery material wobbling over a magnet. The team said the sample was levitating because of the Meissner effect — a hallmark of superconductivity in which a material expels magnetic fields. Multiple unverified videos of LK-99 levitating subsequently circulated on social media, but none of the researchers who initially tried to replicate the findings observed any levitation.\n",
      "\n",
      "Half-baked levitation\n",
      "\n",
      "Several red flags popped out to Derrick van Gennep, a former condensed-matter researcher at Harvard University in Cambridge, Massachusetts, who now works in finance but was intrigued by LK-99. In the video, the same edge of the sample seemed to stick to the magnet, and it seemed delicately balanced. By contrast, superconductors that levitate over magnets can be spun and even held upside-down. “None of those behaviors look like what we see in the LK-99 videos,” van Gennep says.\n",
      "\n",
      "He thought LK-99’s properties were more likely the result of ferromagnetism. So he constructed a pellet of compressed graphite shavings with iron filings glued to it. A video made by Van Gennep shows that his disc — made of non-superconducting, ferromagnetic materials — mimicked LK-99’s behaviour.\n",
      "\n",
      "On 7 August, the Peking University team reported that this “half-levitation” appeared in their LK-99 samples because of ferromagnetism. “It’s exactly like an iron-filing experiment,” says Yuan Li, a condensed-matter physicist and study co-author. The pellet experiences a lifting force but it’s not enough to levitate — only enough to balance on one end.\n",
      "\n",
      "Li and his colleagues measured their sample’s resistivity, and found no sign of superconductivity. But they couldn’t explain the sharp resistivity drop seen by the Korean team.\n",
      "\n",
      "Impure samples\n",
      "\n",
      "In their preprint, the Korean authors note one particular temperature at which LK-99’s showed a tenfold drop in resistivity, from about 0.02 ohm-centimetres to 0.002 ohm-cm. “They were very precise about it. 104.8ºC,” says Prashant Jain, a chemist at the University of Illinois Urbana–Champaign. “I was like, wait a minute, I know this temperature.”\n",
      "\n",
      "The reaction that synthesizes LK-99 uses an unbalanced recipe: for every 1 part copper-doped lead phosphate crystal — pure LK-99 — it makes, it produces 17 parts copper and 5 parts sulfur. These leftovers lead to numerous impurities — especially copper sulfide, which the Korean team reported in its sample.\n",
      "\n",
      "Jain, a copper-sulfide expert, remembered 104ºC as the temperature at which Cu 2 S undergoes a phase transition. Below that temperature, the resistivity of air-exposed Cu 2 S drops dramatically — a signal almost identical to LK-99’s purported superconducting phase transition. “I was almost in disbelief that they missed it.” Jain published a preprint7 on the important confounding effect.\n",
      "\n",
      "On 8 August, the CAS team reported on the effects of Cu 2 S impurities in LK-99. “Different contents of Cu 2 S can be synthesized using different processes,” says Jianlin Luo, a CAS physicist. The researchers tested two samples — the first heated in a vacuum, which resulted in 5% Cu 2 S content, and the second in air, which gave 70% Cu 2 S content.\n",
      "\n",
      "The first sample’s resistivity increased relatively smoothly as it cooled, and appeared similar to samples from other replication attempts. But the second sample’s resistivity plunged near 112 ºC (385K) — closely matching the Korean team’s observations.\n",
      "\n",
      "“That was the moment where I said, ‘Well, obviously, that’s what made them think this was a superconductor,’” says Fuhrer. “The nail in the coffin was this copper sulfide thing.”\n",
      "\n",
      "Making conclusive statements about LK-99’s properties is difficult, because the material is finicky and samples contain varying impurities. “Even from our own growth, different batches will be slightly different,” says Li. But Li argues that samples that are close enough to the original are sufficient for checking whether LK-99 is a superconductor in ambient coniditions.\n",
      "\n",
      "Crystal clear\n",
      "\n",
      "With strong explanations for the resistivity drop and the half-levitation, many in the community were convinced that LK-99 was not a room-temperature superconductor. But mysteries lingered — namely, what were the material’s actual properties?\n",
      "\n",
      "Initial theoretical attempts using an approach called density functional theory (DFT) to predict LK-99’s structure had hinted at interesting electronic signatures called ‘flat bands’. These are areas where the electrons move slowly and can be strongly correlated. In some cases, this behavior leads to superconductivity. But these calculations were based on unverified assumptions about LK-99’s structure.\n",
      "\n",
      "To better understand the material, the US–European group5 performed precision X-ray imaging of their samples to calculate LK-99’s structure. Crucially, the imaging allowed them to make rigorous calculations that clarified the situation of the flat bands: they were not conducive to superconductivity. Instead, the flat bands in LK-99 came from strongly localized electrons, which cannot ‘hop’ in the way a superconductor requires.\n",
      "\n",
      "On 14 August, a separate team, at the Max Planck Institute for Solid State Research in Stuttgart, Germany, reported6 synthesizing pure, single crystals of LK-99. Unlike previous synthesis attempts that relied on crucibles, the researchers used a technique called floating zone crystal growth that allowed them to avoid introducing sulfur into the reaction, eliminating the Cu 2 S impurities.\n",
      "\n",
      "The result was a transparent purple crystal — pure LK-99, or Pb 8.8 Cu 1.2 P 6 O 25 . Separated from impurities, LK-99 is not a superconductor, but an insulator with a resistance in the millions of ohms — too high to run a standard conductivity test. It shows minor ferromagnetism and diamagnetism, but not enough for even partial levitation. “We therefore rule out the presence of superconductivity,” the team concluded.\n",
      "\n",
      "The team suggests that the hints of superconductivity seen in LK-99 were attributable to Cu 2 S impurities, which are absent from their crystal. “This story is exactly showing why we need single crystals,” says Pascal Puphal, a specialist in crystal growth and the Max Planck physicist who led the study. “When we have single crystals, we can clearly study the intrinsic properties of a system.”\n",
      "\n",
      "Lessons learned\n",
      "\n",
      "Many researchers are reflecting on what they’ve learned from the summer’s superconductivity sensation.\n",
      "\n",
      "For Leslie Schoop, a solid-state chemist at Princeton University in New Jersey, who co-authored the flat-bands study, the lesson about premature calculations is clear. “Even before LK-99, I have been giving talks about how you need to be careful with DFT, and now I have the best story ever for my next summer school,” she says.\n",
      "\n",
      "Jain points to the importance of old, often overlooked data — the crucial measurements that he relied on for the resistivity of Cu 2 S were published in 1951.\n",
      "\n",
      "While some commentators have pointed to the LK-99 saga as a model for reproducibility in science, others say that it’s an unusually swift resolution of a high-profile puzzle. “Often these things die this very slow death, where it’s just the rumors and nobody can reproduce it,” says Fuhrer.\n",
      "\n",
      "When copper oxide superconductors were discovered in 1986, researchers leapt to probe their properties. But nearly four decades later, there is still debate over the material’s superconducting mechanism, says Vishik. Efforts to explain LK-99 came readily. “The detective work that wraps up all of the pieces of the original observation — I think that’s really fantastic,” she says. “And it’s relatively rare.”\n"
     ]
    }
   ],
   "source": [
    "import requests\n",
    "from newspaper import Article\n",
    "\n",
    "headers = {\n",
    "    'User-Agent': 'Mozilla/5.0 (Windows NT 10.0; Win64; x64) AppleWebKit/537.36 (KHTML, like Gecko) Chrome/89.0.4389.82 Safari/537.36'\n",
    "}\n",
    "\n",
    "article_url = \"https://www.nature.com/articles/d41586-023-02585-7\"\n",
    "\n",
    "session = requests.Session()\n",
    "\n",
    "try:\n",
    "    response = session.get(article_url, headers=headers, timeout=10)\n",
    "    \n",
    "    if response.status_code == 200:\n",
    "        article = Article(article_url)\n",
    "        article.download()\n",
    "        article.parse()\n",
    "        \n",
    "        print(f\"Title: {article.title}\")\n",
    "        print(f\"Text: {article.text}\")\n",
    "        \n",
    "    else:\n",
    "        print(f\"Failed to fetch article at {article_url}\")\n",
    "except Exception as e:\n",
    "    print(f\"Error occurred while fetching article at {article_url}: {e}\")"
   ]
  },
  {
   "cell_type": "code",
   "execution_count": 4,
   "id": "30cc2859",
   "metadata": {},
   "outputs": [
    {
     "name": "stderr",
     "output_type": "stream",
     "text": [
      "C:\\Users\\dell\\AppData\\Local\\Programs\\Python\\Python39\\lib\\site-packages\\deeplake\\util\\check_latest_version.py:32: UserWarning: A newer version of deeplake (3.6.19) is available. It's recommended that you update to the latest version using `pip install -U deeplake`.\n",
      "  warnings.warn(\n"
     ]
    }
   ],
   "source": [
    "from langchain.schema import (\n",
    "    HumanMessage\n",
    ")\n",
    "\n",
    "# we get the article data from the scraping part\n",
    "article_title = article.title\n",
    "article_text = article.text\n",
    "\n",
    "# prepare template for prompt\n",
    "template = \"\"\"You are a very good assistant that summarizes online articles.\n",
    "\n",
    "Here's the article you want to summarize.\n",
    "\n",
    "==================\n",
    "Title: {article_title}\n",
    "\n",
    "{article_text}\n",
    "==================\n",
    "\n",
    "Write a summary of the previous article.\n",
    "\"\"\"\n",
    "\n",
    "prompt = template.format(article_title=article.title, article_text=article.text)\n",
    "\n",
    "messages = [HumanMessage(content=prompt)]"
   ]
  },
  {
   "cell_type": "code",
   "execution_count": 5,
   "id": "f3cdbee9",
   "metadata": {},
   "outputs": [
    {
     "data": {
      "text/plain": [
       "[HumanMessage(content=\"You are a very good assistant that summarizes online articles.\\n\\nHere's the article you want to summarize.\\n\\n==================\\nTitle: LK-99 isn’t a superconductor — how science sleuths solved the mystery\\n\\nPure crystals of LK-99, synthesized by a team at the Max Planck Institute for Solid State Research in Stuttgart, Germany.Credit: Pascal Puphal\\n\\nResearchers seem to have solved the puzzle of LK-99. Scientific detective work has unearthed evidence that the material is not a superconductor, and clarified its actual properties.\\n\\nThe conclusion dashes hopes that LK-99 — a compound of copper, lead, phosphorus and oxygen — marked the discovery of the first superconductor that works at room temperature and ambient pressure. Instead, studies have shown that impurities in the material — in particular, copper sulfide — were responsible for the sharp drops in electrical resistivity and partial levitation over a magnet, which looked similar to properties exhibited by superconductors.\\n\\n“I think things are pretty decisively settled at this point,” says Inna Vishik, a condensed-matter experimentalist at the University of California, Davis.\\n\\nClaimed superconductor LK-99 is an online sensation — but replication efforts fall short\\n\\nThe LK-99 saga began in late July, when a team led by Sukbae Lee and Ji-Hoon Kim at the Quantum Energy Research Centre, a start-up firm in Seoul, published preprints1,2 claiming that LK-99 is a superconductor at normal pressure and temperatures up to at least 127 ºC (400 kelvin). All previously confirmed superconductors function only at extreme temperatures and pressures.\\n\\nThe extraordinary claim quickly grabbed the attention of the science-interested public and researchers, some of whom tried to replicate LK-99. Initial attempts did not see signs of room-temperature superconductivity, but were not conclusive. Now, after dozens of replication efforts, many experts are confidently saying that the evidence shows LK-99 is not a room-temperature superconductor. (Lee and Kim’s team did not respond to Nature’s request for comment.)\\n\\nAccumulating evidence\\n\\nThe South Korean team based its claim on two of LK-99’s properties: levitation above a magnet and abrupt drops in resistivity. But separate teams in Beijing, at Peking University3 and the Chinese Academy of Sciences4 (CAS), found mundane explanations for these phenomena.\\n\\nAnother study5, by US and European researchers, combined experimental and theoretical evidence to demonstrate how LK-99’s structure made superconductivity infeasible. And other experimenters synthesized and studied pure samples6 of LK-99, erasing doubts about the material’s structure and confirming that it is not a superconductor, but an insulator.\\n\\nThe only further confirmation would come from the Korean team sharing their samples, says Michael Fuhrer, a physicist at Monash University in Melbourne, Australia. “The burden’s on them to convince everybody else,” he says.\\n\\nPerhaps the most striking evidence for LK-99’s superconductivity was a video taken by the Korean team that showed a coin-shaped sample of silvery material wobbling over a magnet. The team said the sample was levitating because of the Meissner effect — a hallmark of superconductivity in which a material expels magnetic fields. Multiple unverified videos of LK-99 levitating subsequently circulated on social media, but none of the researchers who initially tried to replicate the findings observed any levitation.\\n\\nHalf-baked levitation\\n\\nSeveral red flags popped out to Derrick van Gennep, a former condensed-matter researcher at Harvard University in Cambridge, Massachusetts, who now works in finance but was intrigued by LK-99. In the video, the same edge of the sample seemed to stick to the magnet, and it seemed delicately balanced. By contrast, superconductors that levitate over magnets can be spun and even held upside-down. “None of those behaviors look like what we see in the LK-99 videos,” van Gennep says.\\n\\nHe thought LK-99’s properties were more likely the result of ferromagnetism. So he constructed a pellet of compressed graphite shavings with iron filings glued to it. A video made by Van Gennep shows that his disc — made of non-superconducting, ferromagnetic materials — mimicked LK-99’s behaviour.\\n\\nOn 7 August, the Peking University team reported that this “half-levitation” appeared in their LK-99 samples because of ferromagnetism. “It’s exactly like an iron-filing experiment,” says Yuan Li, a condensed-matter physicist and study co-author. The pellet experiences a lifting force but it’s not enough to levitate — only enough to balance on one end.\\n\\nLi and his colleagues measured their sample’s resistivity, and found no sign of superconductivity. But they couldn’t explain the sharp resistivity drop seen by the Korean team.\\n\\nImpure samples\\n\\nIn their preprint, the Korean authors note one particular temperature at which LK-99’s showed a tenfold drop in resistivity, from about 0.02 ohm-centimetres to 0.002 ohm-cm. “They were very precise about it. 104.8ºC,” says Prashant Jain, a chemist at the University of Illinois Urbana–Champaign. “I was like, wait a minute, I know this temperature.”\\n\\nThe reaction that synthesizes LK-99 uses an unbalanced recipe: for every 1 part copper-doped lead phosphate crystal — pure LK-99 — it makes, it produces 17 parts copper and 5 parts sulfur. These leftovers lead to numerous impurities — especially copper sulfide, which the Korean team reported in its sample.\\n\\nJain, a copper-sulfide expert, remembered 104ºC as the temperature at which Cu 2 S undergoes a phase transition. Below that temperature, the resistivity of air-exposed Cu 2 S drops dramatically — a signal almost identical to LK-99’s purported superconducting phase transition. “I was almost in disbelief that they missed it.” Jain published a preprint7 on the important confounding effect.\\n\\nOn 8 August, the CAS team reported on the effects of Cu 2 S impurities in LK-99. “Different contents of Cu 2 S can be synthesized using different processes,” says Jianlin Luo, a CAS physicist. The researchers tested two samples — the first heated in a vacuum, which resulted in 5% Cu 2 S content, and the second in air, which gave 70% Cu 2 S content.\\n\\nThe first sample’s resistivity increased relatively smoothly as it cooled, and appeared similar to samples from other replication attempts. But the second sample’s resistivity plunged near 112 ºC (385K) — closely matching the Korean team’s observations.\\n\\n“That was the moment where I said, ‘Well, obviously, that’s what made them think this was a superconductor,’” says Fuhrer. “The nail in the coffin was this copper sulfide thing.”\\n\\nMaking conclusive statements about LK-99’s properties is difficult, because the material is finicky and samples contain varying impurities. “Even from our own growth, different batches will be slightly different,” says Li. But Li argues that samples that are close enough to the original are sufficient for checking whether LK-99 is a superconductor in ambient coniditions.\\n\\nCrystal clear\\n\\nWith strong explanations for the resistivity drop and the half-levitation, many in the community were convinced that LK-99 was not a room-temperature superconductor. But mysteries lingered — namely, what were the material’s actual properties?\\n\\nInitial theoretical attempts using an approach called density functional theory (DFT) to predict LK-99’s structure had hinted at interesting electronic signatures called ‘flat bands’. These are areas where the electrons move slowly and can be strongly correlated. In some cases, this behavior leads to superconductivity. But these calculations were based on unverified assumptions about LK-99’s structure.\\n\\nTo better understand the material, the US–European group5 performed precision X-ray imaging of their samples to calculate LK-99’s structure. Crucially, the imaging allowed them to make rigorous calculations that clarified the situation of the flat bands: they were not conducive to superconductivity. Instead, the flat bands in LK-99 came from strongly localized electrons, which cannot ‘hop’ in the way a superconductor requires.\\n\\nOn 14 August, a separate team, at the Max Planck Institute for Solid State Research in Stuttgart, Germany, reported6 synthesizing pure, single crystals of LK-99. Unlike previous synthesis attempts that relied on crucibles, the researchers used a technique called floating zone crystal growth that allowed them to avoid introducing sulfur into the reaction, eliminating the Cu 2 S impurities.\\n\\nThe result was a transparent purple crystal — pure LK-99, or Pb 8.8 Cu 1.2 P 6 O 25 . Separated from impurities, LK-99 is not a superconductor, but an insulator with a resistance in the millions of ohms — too high to run a standard conductivity test. It shows minor ferromagnetism and diamagnetism, but not enough for even partial levitation. “We therefore rule out the presence of superconductivity,” the team concluded.\\n\\nThe team suggests that the hints of superconductivity seen in LK-99 were attributable to Cu 2 S impurities, which are absent from their crystal. “This story is exactly showing why we need single crystals,” says Pascal Puphal, a specialist in crystal growth and the Max Planck physicist who led the study. “When we have single crystals, we can clearly study the intrinsic properties of a system.”\\n\\nLessons learned\\n\\nMany researchers are reflecting on what they’ve learned from the summer’s superconductivity sensation.\\n\\nFor Leslie Schoop, a solid-state chemist at Princeton University in New Jersey, who co-authored the flat-bands study, the lesson about premature calculations is clear. “Even before LK-99, I have been giving talks about how you need to be careful with DFT, and now I have the best story ever for my next summer school,” she says.\\n\\nJain points to the importance of old, often overlooked data — the crucial measurements that he relied on for the resistivity of Cu 2 S were published in 1951.\\n\\nWhile some commentators have pointed to the LK-99 saga as a model for reproducibility in science, others say that it’s an unusually swift resolution of a high-profile puzzle. “Often these things die this very slow death, where it’s just the rumors and nobody can reproduce it,” says Fuhrer.\\n\\nWhen copper oxide superconductors were discovered in 1986, researchers leapt to probe their properties. But nearly four decades later, there is still debate over the material’s superconducting mechanism, says Vishik. Efforts to explain LK-99 came readily. “The detective work that wraps up all of the pieces of the original observation — I think that’s really fantastic,” she says. “And it’s relatively rare.”\\n==================\\n\\nWrite a summary of the previous article.\\n\", additional_kwargs={}, example=False)]"
      ]
     },
     "execution_count": 5,
     "metadata": {},
     "output_type": "execute_result"
    }
   ],
   "source": [
    "messages"
   ]
  },
  {
   "cell_type": "markdown",
   "id": "bc1f1bec",
   "metadata": {},
   "source": [
    "The `HumanMessage` is a structured data format representing user messages within the chat-based interaction framework. The ChatOpenAI class is utilized to interact with the AI model, while the HumanMessage schema provides a standardized representation of user messages. The template consists of placeholders for the article's title and content, which will be substituted with the actual `article_title` and `article_text`. This process simplifies and streamlines the creation of dynamic prompts by allowing you to define a template with placeholders and then replace them with actual data when needed."
   ]
  },
  {
   "cell_type": "code",
   "execution_count": 6,
   "id": "487120fc",
   "metadata": {},
   "outputs": [],
   "source": [
    "from langchain.chat_models import ChatOpenAI\n",
    "\n",
    "# load the model\n",
    "chat = ChatOpenAI(model_name=\"gpt-3.5-turbo\", temperature=0)"
   ]
  },
  {
   "cell_type": "code",
   "execution_count": 7,
   "id": "7309ea6d",
   "metadata": {},
   "outputs": [
    {
     "name": "stdout",
     "output_type": "stream",
     "text": [
      "Scientists have determined that LK-99, a compound of copper, lead, phosphorus, and oxygen, is not a superconductor as previously claimed. The material's apparent superconducting properties were actually caused by impurities, particularly copper sulfide. Multiple replication attempts and further studies have confirmed that LK-99 does not exhibit room-temperature superconductivity. The discovery highlights the importance of careful analysis and the need for pure samples in scientific research. While the LK-99 saga was resolved relatively quickly, it serves as a reminder of the challenges and uncertainties that can arise in scientific investigations.\n"
     ]
    }
   ],
   "source": [
    "# generate summary\n",
    "summary = chat(messages)\n",
    "print(summary.content)"
   ]
  },
  {
   "cell_type": "markdown",
   "id": "f7c1578b",
   "metadata": {},
   "source": [
    "### IN Bullet points"
   ]
  },
  {
   "cell_type": "code",
   "execution_count": 8,
   "id": "597e8026",
   "metadata": {},
   "outputs": [
    {
     "name": "stdout",
     "output_type": "stream",
     "text": [
      "- LK-99, a compound of copper, lead, phosphorus, and oxygen, was initially claimed to be a room-temperature superconductor.\n",
      "- However, further studies have revealed that impurities in the material, particularly copper sulfide, were responsible for the observed properties resembling superconductivity.\n",
      "- Replication efforts by various teams have failed to reproduce the claimed room-temperature superconductivity.\n",
      "- The South Korean team that made the initial claim did not respond to requests for comment.\n",
      "- Other teams have found mundane explanations for the phenomena observed in LK-99, such as levitation above a magnet and drops in resistivity.\n",
      "- The presence of impurities, especially copper sulfide, in LK-99 was confirmed by multiple experiments.\n",
      "- The sharp drops in resistivity observed by the Korean team were attributed to the phase transition of copper sulfide.\n",
      "- The structure of LK-99 was studied using precision X-ray imaging, which revealed that it does not possess the necessary electronic signatures for superconductivity.\n",
      "- Pure, single crystals of LK-99 were synthesized, confirming that it is an insulator rather than a superconductor.\n",
      "- Lessons learned from the LK-99 saga include the importance of careful calculations, the value of old data, and the rarity of swift resolutions in high-profile scientific puzzles.\n"
     ]
    }
   ],
   "source": [
    "# prepare template for prompt\n",
    "template = \"\"\"You are an advanced AI assistant that summarizes online articles into bulleted lists.\n",
    "\n",
    "Here's the article you need to summarize.\n",
    "\n",
    "==================\n",
    "Title: {article_title}\n",
    "\n",
    "{article_text}\n",
    "==================\n",
    "\n",
    "Now, provide a summarized version of the article in a bulleted list format.\n",
    "\"\"\"\n",
    "\n",
    "# format prompt\n",
    "prompt = template.format(article_title=article.title, article_text=article.text)\n",
    "\n",
    "# generate summary\n",
    "summary = chat([HumanMessage(content=prompt)])\n",
    "print(summary.content)"
   ]
  },
  {
   "cell_type": "markdown",
   "id": "41641feb",
   "metadata": {},
   "source": [
    "### In Spanish"
   ]
  },
  {
   "cell_type": "code",
   "execution_count": 9,
   "id": "df88723c",
   "metadata": {},
   "outputs": [
    {
     "name": "stdout",
     "output_type": "stream",
     "text": [
      "- El misterio de LK-99, un compuesto de cobre, plomo, fósforo y oxígeno, ha sido resuelto por investigadores.\n",
      "- Se ha descubierto que LK-99 no es un superconductor, sino que las impurezas en el material, especialmente el sulfuro de cobre, son responsables de las caídas bruscas en la resistividad eléctrica y la levitación parcial sobre un imán.\n",
      "- Un equipo en Corea del Sur afirmó que LK-99 era un superconductor a temperatura ambiente, pero muchos expertos han replicado los resultados y concluyen que no lo es.\n",
      "- Otros equipos de investigación en Beijing y Estados Unidos han encontrado explicaciones mundanas para los fenómenos observados en LK-99.\n",
      "- La presencia de impurezas de sulfuro de cobre en LK-99 parece ser la causa de los resultados engañosos que llevaron a creer que era un superconductor.\n",
      "- Se han sintetizado cristales puros de LK-99 que confirman que no es un superconductor, sino un aislante con resistencia muy alta.\n",
      "- El caso de LK-99 destaca la importancia de la reproducibilidad en la ciencia y la necesidad de investigaciones rigurosas para confirmar resultados sorprendentes.\n"
     ]
    }
   ],
   "source": [
    "# prepare template for prompt\n",
    "template = \"\"\"You are an advanced AI assistant that summarizes online articles into bulleted lists in French.\n",
    "\n",
    "Here's the article you need to summarize.\n",
    "\n",
    "==================\n",
    "Title: {article_title}\n",
    "\n",
    "{article_text}\n",
    "==================\n",
    "\n",
    "Now, provide a summarized version of the article in a bulleted list format, in Spanish.\n",
    "\"\"\"\n",
    "\n",
    "# format prompt\n",
    "prompt = template.format(article_title=article.title, article_text=article.text)\n",
    "\n",
    "# generate summary\n",
    "summary = chat([HumanMessage(content=prompt)])\n",
    "print(summary.content)"
   ]
  },
  {
   "cell_type": "code",
   "execution_count": null,
   "id": "f5794473",
   "metadata": {},
   "outputs": [],
   "source": []
  }
 ],
 "metadata": {
  "kernelspec": {
   "display_name": "Python 3 (ipykernel)",
   "language": "python",
   "name": "python3"
  },
  "language_info": {
   "codemirror_mode": {
    "name": "ipython",
    "version": 3
   },
   "file_extension": ".py",
   "mimetype": "text/x-python",
   "name": "python",
   "nbconvert_exporter": "python",
   "pygments_lexer": "ipython3",
   "version": "3.9.2"
  }
 },
 "nbformat": 4,
 "nbformat_minor": 5
}
