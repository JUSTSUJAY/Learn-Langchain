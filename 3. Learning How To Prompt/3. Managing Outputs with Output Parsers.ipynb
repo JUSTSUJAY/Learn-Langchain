{
 "cells": [
  {
   "cell_type": "markdown",
   "id": "7a6ea013",
   "metadata": {},
   "source": [
    "- the importance of structured data output from language models, particularly in scenarios where the generated text needs to be used in applications or systems. It uses an example of a thesaurus application where the goal is to generate a list of substitute words for a given term, such as \"behavior.\" The issue arises because the generated text might vary in format, making it challenging to extract the relevant information programmatically.\n",
    "- \"Output Parsers,\" which are tools that help define and extract specific information from the generated text. These parsers create a structured data format that precisely outlines the expected output. In the case of the thesaurus application, the parser can extract the list of substitute words, even if the response format changes.\n",
    "\n",
    "# 1. Output Parsers\n",
    "Pydrantic parser is the most powerful and flexible wrapper, knowing the other options for less complicated problems is beneficial.\n",
    "\n",
    "## 1-1. PydanticOutputParser\n",
    "- instructs the model to generate its output in a JSON format and then extract the information from the response\n",
    "- be able to treat the parser’s output as a list, meaning it will be possible to index through the results without worrying about formatting."
   ]
  },
  {
   "cell_type": "code",
   "execution_count": 1,
   "id": "8d99d8fb",
   "metadata": {},
   "outputs": [
    {
     "name": "stderr",
     "output_type": "stream",
     "text": [
      "C:\\Users\\dell\\AppData\\Local\\Programs\\Python\\Python39\\lib\\site-packages\\deeplake\\util\\check_latest_version.py:32: UserWarning: A newer version of deeplake (3.6.19) is available. It's recommended that you update to the latest version using `pip install -U deeplake`.\n",
      "  warnings.warn(\n"
     ]
    }
   ],
   "source": [
    "from langchain.output_parsers import PydanticOutputParser\n",
    "from pydantic import BaseModel, Field, validator\n",
    "from typing import List\n",
    "\n",
    "# Define your desired data structure.\n",
    "class Suggestions(BaseModel):\n",
    "    words: List[str] = Field(description=\"list of substitue words based on context\")\n",
    "\n",
    "    # Throw error in case of receiving a numbered-list from API\n",
    "    @validator('words')\n",
    "    def not_start_with_number(cls, field):\n",
    "        for item in field:\n",
    "            if item[0].isnumeric():\n",
    "                raise ValueError(\"The word can not start with numbers!\")\n",
    "        return field\n",
    "\n",
    "parser = PydanticOutputParser(pydantic_object=Suggestions)"
   ]
  },
  {
   "cell_type": "markdown",
   "id": "9091dd59",
   "metadata": {},
   "source": [
    "We always import and follow the necessary libraries by creating the Suggestions schema class. There are two essential parts to this class:\n",
    "\n",
    "Expected Outputs: Each output is defined by declaring a variable with desired type, like a list of strings `(: List[str])` in the sample code, or it could be a single string `(: str)` if you are expecting just one word/sentence as the response. Also, It is required to write a simple explanation using the `Field` function’s `description` attribute to help the model during inference. (We will see an example of having multiple outputs later in the lesson)<br><br>\n",
    "Validators: It is possible to declare functions to validate the formatting. We ensure that the first character is not a number in the sample code. The function’s name is unimportant, but the `@validator` decorator must receive the same name as the variable you want to approve. (like `@validator(’words’)`) It is worth noting that the `field` variable inside the validator function will be a list if you specify it as one.\n"
   ]
  },
  {
   "cell_type": "code",
   "execution_count": null,
   "id": "98967511",
   "metadata": {},
   "outputs": [],
   "source": []
  }
 ],
 "metadata": {
  "kernelspec": {
   "display_name": "Python 3 (ipykernel)",
   "language": "python",
   "name": "python3"
  },
  "language_info": {
   "codemirror_mode": {
    "name": "ipython",
    "version": 3
   },
   "file_extension": ".py",
   "mimetype": "text/x-python",
   "name": "python",
   "nbconvert_exporter": "python",
   "pygments_lexer": "ipython3",
   "version": "3.9.2"
  }
 },
 "nbformat": 4,
 "nbformat_minor": 5
}
