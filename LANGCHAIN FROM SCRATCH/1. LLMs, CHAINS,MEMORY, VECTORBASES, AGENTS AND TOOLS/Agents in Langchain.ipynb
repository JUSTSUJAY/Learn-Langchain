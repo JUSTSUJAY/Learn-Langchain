{
 "cells": [
  {
   "cell_type": "markdown",
   "id": "06ee70d8",
   "metadata": {},
   "source": [
    "## Agents in Langchain\n",
    "- agents are high level components of LLMs which determine which actions to take and in what order\n",
    "- actions - using a tool/ observing the output and returning it to user\n",
    "- Tools are functions that perform specific duties such as google search, database lookups\n",
    "\n",
    "Several Types of agents are available in langchain\n",
    "\n",
    "1.`zero-shot-react-description` -  uses ReAct framework to decide which framework to decide which tool to employ based purely on tools description\n",
    "    \n",
    "2. `react-docstore` - agent engages with docstore through ReAct \n",
    "        - it needs 2 tools\n",
    "        - `search tool` searches for the document\n",
    "        - `lookup tool` searches for the term in most recently discovered document\n",
    "3. `self-ask-with-search` - \n",
    "    \n",
    "4. `conversational-react-description` - designed for conversational situations - uses React frameword to select tool and uses memory to remember the conversation\n",
    "    \n",
    "##### We will use google search tool to look for information\n",
    "        \n",
    "     "
   ]
  },
  {
   "cell_type": "code",
   "execution_count": 1,
   "id": "3ec1d9d1",
   "metadata": {},
   "outputs": [],
   "source": [
    "from langchain.llms import OpenAI\n",
    "\n",
    "from langchain.agents import AgentType\n",
    "from langchain.agents import load_tools\n",
    "from langchain.agents import initialize_agent\n",
    "\n",
    "from langchain.agents import Tool\n",
    "from langchain.utilities import GoogleSearchAPIWrapper"
   ]
  },
  {
   "cell_type": "markdown",
   "id": "6230708c",
   "metadata": {},
   "source": [
    "- `langchain.llms.OpenAI`: This is used to create an instance of the OpenAI language model, which can generate human-like text based on the input it's given.\n",
    "- `langchain.agents.load_tools`: This function is used to load a list of tools that an AI agent can use.\n",
    "- `langchain.agents.initialize_agent`: This function initializes an AI agent that can use a given set of tools and a language model to interact with users.\n",
    "- `langchain.agents.Tool`: This is a class used to define a tool that an AI agent can use. A tool is defined by its name, a function that performs the tool's action, and a description of the tool.\n",
    "- `langchain.utilities.GoogleSearchAPIWrapper`: This class is a wrapper for the Google Search API, allowing it to be used as a tool by an AI agent. It likely contains a method that sends a search query to Google and retrieves the results."
   ]
  },
  {
   "cell_type": "code",
   "execution_count": 2,
   "id": "03dbbc3f",
   "metadata": {},
   "outputs": [],
   "source": [
    "llm = OpenAI(model=\"text-davinci-003\", temperature=0)"
   ]
  },
  {
   "cell_type": "code",
   "execution_count": 3,
   "id": "4238075c",
   "metadata": {},
   "outputs": [],
   "source": [
    "import os\n",
    "google_api_key = os.environ.get('GOOGLE_API_KEY')\n",
    "google_cse_id = os.environ.get('GOOGLE_CSE_ID')\n",
    "\n",
    "\n",
    "search = GoogleSearchAPIWrapper(google_api_key=google_api_key,google_cse_id=google_cse_id)"
   ]
  },
  {
   "cell_type": "code",
   "execution_count": 4,
   "id": "6b507584",
   "metadata": {},
   "outputs": [],
   "source": [
    "# !pip install google-api-python-client"
   ]
  },
  {
   "cell_type": "markdown",
   "id": "56dc5631",
   "metadata": {},
   "source": [
    "The `Tool` object represents a specific capability or function the system can use. In this case, it's a tool for performing Google searches.\n",
    "\n",
    "`name` parameter: This is a string that serves as a unique identifier for the tool. In this case, the name of the tool is \"google-search.”\n",
    "\n",
    "`func` parameter: This parameter is assigned the function that the tool will execute when called. In this case, it's the run method of the search object, which presumably performs a Google search\n",
    "\n",
    "`description` parameter: This is a string that briefly explains what the tool does. The description explains that this tool is helpful when you need to use Google to answer questions about current events."
   ]
  },
  {
   "cell_type": "code",
   "execution_count": 5,
   "id": "67571d4b",
   "metadata": {},
   "outputs": [],
   "source": [
    "tools = [\n",
    "    Tool(\n",
    "    name = 'google-search',\n",
    "    func = search.run,\n",
    "    description = 'Lemme run')\n",
    "]"
   ]
  },
  {
   "cell_type": "markdown",
   "id": "92fef93e",
   "metadata": {},
   "source": [
    " we create an agent that uses our Google Search tool:\n",
    "\n",
    "`initialize_agent()`: This function call creates and initializes an agent. An agent is a component that determines which actions to take based on user input. These actions can be using a tool, returning a response to the user, or something else.\n",
    "\n",
    "`tools` - represents the list of tools\n",
    "\n",
    "`agent = zero-shot-react-description` - Agent uses the ReAct framework to decide which tool to use based only on the tool's description.\n",
    "\n",
    "`verbose = True` - prints what is happening, useful for debugging\n",
    "\n",
    "`max_iterations = 6`- sets limit on number of iterations the agent can perform before stopping - prevents from running indefinitely\n"
   ]
  },
  {
   "cell_type": "code",
   "execution_count": 6,
   "id": "eb94944c",
   "metadata": {},
   "outputs": [],
   "source": [
    "agent = initialize_agent(llm = llm,\n",
    "                         tools = tools,\n",
    "                        agent = AgentType.ZERO_SHOT_REACT_DESCRIPTION,\n",
    "                        verbose = True,\n",
    "                        max_iterations = 6)"
   ]
  },
  {
   "cell_type": "markdown",
   "id": "d83b3f68",
   "metadata": {},
   "source": [
    "## Before run - Check\n",
    "whether your custom search api is enabled or not - https://console.developers.google.com/apis/api/customsearch.googleapis.com/overview?project=467944315973\n",
    "\n",
    "Once you have enabled the option it will take few minutes for it to propagate it to your system and they rerun."
   ]
  },
  {
   "cell_type": "code",
   "execution_count": 7,
   "id": "837622e8",
   "metadata": {},
   "outputs": [
    {
     "name": "stdout",
     "output_type": "stream",
     "text": [
      "\n",
      "\n",
      "\u001b[1m> Entering new AgentExecutor chain...\u001b[0m\n",
      "\u001b[32;1m\u001b[1;3m I should research what the James web telescope is\n",
      "Action: google-search\n",
      "Action Input: \"James web telescope\"\u001b[0m\n",
      "Observation: \u001b[36;1m\u001b[1;3mIn July 2022, NASA's James Webb Space Telescope observed El Gordo, a galaxy cluster that existed 6.2 billion years after the big bang. It was selected as the ... James Webb Space Telescope ; Webb Telescope. Webb Celebrates First Year of Science With Close-up on Birth of Sun-like Stars ; Image of the Day. Webb Reveals ... The James Webb Space Telescope is an ambitious scientific endeavor to answer these questions. Webb builds on the legacy of previous space-based telescopes ... Jul 12, 2022 ... The dawn of a new era in astronomy has begun as the world gets its first look at the full capabilities of NASA's James Webb Space Telescope, ... The James Webb Space Telescope (JWST) is a space telescope specifically designed to conduct infrared astronomy. Its high-resolution and high-sensitivity ... Apr 27, 2023 ... The $10 billion James Webb Telescope is probing the cosmos to uncover the history of the universe from the Big Bang to exoplanet formation ... The NASA James Webb Space Telescope, developed in partnership with ESA and CSA, is operated by AURA's Space Telescope Science Institute. The James Webb Space Telescope (Webb) is the next great space science observatory following Hubble, designed to answer outstanding questions about the ... 5 days ago ... NASA's James Webb Space Telescope, the agency's successor to the famous Hubble telescope, launched on Dec. 25, 2021 on a mission to study ... The James Webb Space Telescope is an infrared observatory orbiting the Sun about 1 million miles from Earth to find the first galaxies that formed in the ...\u001b[0m\n",
      "Thought:\u001b[32;1m\u001b[1;3m I now know the final answer\n",
      "Final Answer: The James Webb Space Telescope is an ambitious scientific endeavor to answer questions about the universe from the Big Bang to exoplanet formation. It is an infrared observatory orbiting the Sun about 1 million miles from Earth and is operated by AURA's Space Telescope Science Institute. It launched on December 25, 2021.\u001b[0m\n",
      "\n",
      "\u001b[1m> Finished chain.\u001b[0m\n",
      "{'input': 'Tell me about James web telescope', 'output': \"The James Webb Space Telescope is an ambitious scientific endeavor to answer questions about the universe from the Big Bang to exoplanet formation. It is an infrared observatory orbiting the Sun about 1 million miles from Earth and is operated by AURA's Space Telescope Science Institute. It launched on December 25, 2021.\"}\n"
     ]
    }
   ],
   "source": [
    "response = agent('Tell me about James web telescope')\n",
    "print(response)"
   ]
  }
 ],
 "metadata": {
  "kernelspec": {
   "display_name": "Python 3 (ipykernel)",
   "language": "python",
   "name": "python3"
  },
  "language_info": {
   "codemirror_mode": {
    "name": "ipython",
    "version": 3
   },
   "file_extension": ".py",
   "mimetype": "text/x-python",
   "name": "python",
   "nbconvert_exporter": "python",
   "pygments_lexer": "ipython3",
   "version": "3.9.2"
  }
 },
 "nbformat": 4,
 "nbformat_minor": 5
}
