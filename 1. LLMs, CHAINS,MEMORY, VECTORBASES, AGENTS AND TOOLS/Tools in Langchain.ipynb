{
 "cells": [
  {
   "cell_type": "markdown",
   "id": "f0d5f4b7",
   "metadata": {},
   "source": [
    "- LangChain provides a variety of tools for agents to interact with the outside world\n",
    "\n",
    ">In our example, two tools are being defined for use within a LangChain agent: a Google Search tool and a Language Model tool acting specifically as a text summarizer. The Google Search tool, using the GoogleSearchAPIWrapper, will handle queries that involve finding recent event information. The Language Model tool leverages the capabilities of a language model to summarize text"
   ]
  },
  {
   "cell_type": "code",
   "execution_count": 1,
   "id": "43bda5e9",
   "metadata": {},
   "outputs": [],
   "source": [
    "from langchain.llms import OpenAI\n",
    "from langchain.agents import Tool\n",
    "from langchain.utilities import GoogleSearchAPIWrapper\n",
    "from langchain.prompts import PromptTemplate\n",
    "from langchain.chains import LLMChain\n",
    "from langchain.agents import initialize_agent, AgentType"
   ]
  },
  {
   "cell_type": "code",
   "execution_count": 2,
   "id": "d2e05eb4",
   "metadata": {},
   "outputs": [],
   "source": [
    "llm = OpenAI(model = 'text-davinci-003',temperature = 0)\n",
    "prompt = PromptTemplate(input_variables = ['query'],\n",
    "                       template = 'Write a summary of the following text {query}')\n",
    "\n",
    "summary_chain = LLMChain(llm=llm, prompt=prompt)"
   ]
  },
  {
   "cell_type": "code",
   "execution_count": 3,
   "id": "179b20ea",
   "metadata": {},
   "outputs": [],
   "source": [
    "import os\n",
    "# MAKE SURE YOU HAVE ADDED THIS KEYS TO ENVIRONMENT VARIABLES ELSE IT WON'T WORK UNLESS YOU MANUALLY FEED THEM. FOR SAFETY PURPOSE IT IS \n",
    "# ADVISED TO PUT THEM IN ENVIRONMENT VARIABLES\n",
    "google_api_key = os.environ.get('GOOGLE_API_KEY')\n",
    "google_csi_key = os.environ.get('GOOGLE_CSI_KEY')\n",
    "\n",
    "search = GoogleSearchAPIWrapper(google_api_key = google_api_key)\n",
    "tools = [\n",
    "    Tool(name = 'search',\n",
    "            func = search.run,\n",
    "             description = 'Run me'\n",
    "            ),\n",
    "    Tool(name = 'Text Summary',\n",
    "        func = summary_chain.run,\n",
    "        description = 'I am a summerizer!')  \n",
    "         \n",
    "]"
   ]
  },
  {
   "cell_type": "code",
   "execution_count": 4,
   "id": "39b7f5ed",
   "metadata": {},
   "outputs": [],
   "source": [
    "agent = initialize_agent(\n",
    "    tools,\n",
    "    llm,\n",
    "    agent=AgentType.ZERO_SHOT_REACT_DESCRIPTION,\n",
    "    verbose=True  \n",
    ")"
   ]
  },
  {
   "cell_type": "code",
   "execution_count": 5,
   "id": "68ad0ef8",
   "metadata": {},
   "outputs": [
    {
     "name": "stdout",
     "output_type": "stream",
     "text": [
      "\n",
      "\n",
      "\u001b[1m> Entering new AgentExecutor chain...\u001b[0m\n",
      "\u001b[32;1m\u001b[1;3m I should search for the latest news about the Mars rover and then summarize the results.\n",
      "Action: search\n",
      "Action Input: latest news about the Mars rover\u001b[0m\n",
      "Observation: \u001b[36;1m\u001b[1;3mNews · Watch NASA Engineers Put a Mars Lander's Legs to the Test · Cracks in Ancient Martian Mud Surprise NASA's Curiosity Rover Team · NASA's Ingenuity Mars ... Dec 15, 2021 ... Mars Sample Return is going to have great stuff to choose from!” Get the Latest JPL News. SUBSCRIBE TO THE NEWSLETTER. NASA's Curiosity Mars rover captured these clouds just after sunset on March 19, 2021, ... Oct 19, 2022 ... NASA's Curiosity Mars rover used its Mast Camera, or Mastcam, to capture this panorama of a hill nicknamed ... Get the Latest JPL News. NASA's Mars 2020 Perseverance rover will look for signs of past microbial life, cache rock and soil samples, and prepare for future human exploration. Curiosity rover finds water-carved 'book' rock on Mars (photo) ... A book-shaped rock on Mars was likely carved by ancient water running through the area, ... Apr 25, 2023 ... China's Mars rover, which has been in longer-than-expected hibernation on the red planet since May 2022, has likely suffered excessive ... Jun 28, 2023 ... Informally dubbed by Hecht and his team as \"the last hurrah,\" MOXIE delivered the goods on its 15th run on Mars since first gulping up Martian ... Curiosity Rover · Nasa's Curiosity Mars rover can provide a lot of information about the Red Planet, but · An image taken by the Nasa Spirit rover, which shows ... Mar 7, 2023 ... 27, helps provide scientists with information about the particle sizes within the clouds. Sign up for National Breaking News Alerts.\u001b[0m\n",
      "Thought:\u001b[32;1m\u001b[1;3m I should summarize the results of the search.\n",
      "Action: Text Summary\n",
      "Action Input: News · Watch NASA Engineers Put a Mars Lander's Legs to the Test · Cracks in Ancient Martian Mud Surprise NASA's Curiosity Rover Team · NASA's Ingenuity Mars ... Dec 15, 2021 ... Mars Sample Return is going to have great stuff to choose from!” Get the Latest JPL News. SUBSCRIBE TO THE NEWSLETTER. NASA's Curiosity Mars rover captured these clouds just after sunset on March 19, 2021, ... Oct 19, 2022 ... NASA's Curiosity Mars rover used its Mast Camera, or Mastcam, to capture this panorama of a hill nicknamed ... Get the Latest JPL News. NASA's Mars 2020 Perseverance rover will look for signs of past microbial life, cache rock and soil samples, and prepare for future human exploration. Curiosity rover finds water-carved 'book' rock on Mars (photo) ... A book-shaped rock on Mars was likely carved by ancient water running through the area, ... Apr 25, 2023 ... China's Mars rover, which has been in longer-than-expected hibernation on the red planet since May 2022, has likely suffered excessive ... Jun 28, 2023\u001b[0m\n",
      "Observation: \u001b[33;1m\u001b[1;3m\n",
      "\n",
      "NASA has been making great strides in exploring Mars. In December 2021, the Mars Sample Return mission will be launched to collect samples from the planet. In October 2022, the Curiosity Mars rover captured a panorama of a hill nicknamed \"Book Rock\" which was likely carved by ancient water. In April 2023, China's Mars rover went into hibernation on the planet. Finally, in June 2023, the Curiosity rover found a book-shaped rock which was likely carved by ancient water. All of these discoveries are helping NASA to better understand the planet and prepare for future human exploration.\u001b[0m\n",
      "Thought:"
     ]
    },
    {
     "name": "stderr",
     "output_type": "stream",
     "text": [
      "Retrying langchain.llms.openai.completion_with_retry.<locals>._completion_with_retry in 4.0 seconds as it raised RateLimitError: Rate limit reached for default-text-davinci-003 in organization org-UzOocMsB0zH8LN0hOTaQ84JX on requests per min. Limit: 3 / min. Please try again in 20s. Contact us through our help center at help.openai.com if you continue to have issues. Please add a payment method to your account to increase your rate limit. Visit https://platform.openai.com/account/billing to add a payment method..\n",
      "Retrying langchain.llms.openai.completion_with_retry.<locals>._completion_with_retry in 4.0 seconds as it raised RateLimitError: Rate limit reached for default-text-davinci-003 in organization org-UzOocMsB0zH8LN0hOTaQ84JX on requests per min. Limit: 3 / min. Please try again in 20s. Contact us through our help center at help.openai.com if you continue to have issues. Please add a payment method to your account to increase your rate limit. Visit https://platform.openai.com/account/billing to add a payment method..\n",
      "Retrying langchain.llms.openai.completion_with_retry.<locals>._completion_with_retry in 4.0 seconds as it raised RateLimitError: Rate limit reached for default-text-davinci-003 in organization org-UzOocMsB0zH8LN0hOTaQ84JX on requests per min. Limit: 3 / min. Please try again in 20s. Contact us through our help center at help.openai.com if you continue to have issues. Please add a payment method to your account to increase your rate limit. Visit https://platform.openai.com/account/billing to add a payment method..\n"
     ]
    },
    {
     "name": "stdout",
     "output_type": "stream",
     "text": [
      "\u001b[32;1m\u001b[1;3m I now know the final answer.\n",
      "Final Answer: NASA has been making great strides in exploring Mars, with the Curiosity rover discovering a book-shaped rock which was likely carved by ancient water in June 2023. The Mars Sample Return mission will be launched in December 2021 to collect samples from the planet, and China's Mars rover went into hibernation in April 2023. All of these discoveries are helping NASA to better understand the planet and prepare for future human exploration.\u001b[0m\n",
      "\n",
      "\u001b[1m> Finished chain.\u001b[0m\n",
      "NASA has been making great strides in exploring Mars, with the Curiosity rover discovering a book-shaped rock which was likely carved by ancient water in June 2023. The Mars Sample Return mission will be launched in December 2021 to collect samples from the planet, and China's Mars rover went into hibernation in April 2023. All of these discoveries are helping NASA to better understand the planet and prepare for future human exploration.\n"
     ]
    }
   ],
   "source": [
    "response = agent(\"What's the latest news about the Mars rover? Then please summarize the results.\")\n",
    "print(response['output'])"
   ]
  }
 ],
 "metadata": {
  "kernelspec": {
   "display_name": "Python 3 (ipykernel)",
   "language": "python",
   "name": "python3"
  },
  "language_info": {
   "codemirror_mode": {
    "name": "ipython",
    "version": 3
   },
   "file_extension": ".py",
   "mimetype": "text/x-python",
   "name": "python",
   "nbconvert_exporter": "python",
   "pygments_lexer": "ipython3",
   "version": "3.9.2"
  }
 },
 "nbformat": 4,
 "nbformat_minor": 5
}
